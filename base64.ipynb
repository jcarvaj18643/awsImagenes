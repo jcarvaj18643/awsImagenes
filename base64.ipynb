{
 "cells": [
  {
   "cell_type": "code",
   "execution_count": 62,
   "metadata": {},
   "outputs": [],
   "source": [
    "import io\n",
    "import base64\n",
    "import requests\n",
    "import json\n",
    "from PIL import Image"
   ]
  },
  {
   "cell_type": "code",
   "execution_count": 63,
   "metadata": {},
   "outputs": [],
   "source": [
    "\n",
    "def encode_image(image_path):\n",
    "    with Image.open(image_path) as img: \n",
    "            buffered = io.BytesIO()\n",
    "            img.save(buffered, format=\"PNG\")\n",
    "            image_bytes = buffered.getvalue() \n",
    "    \n",
    "    image_base64 = base64.b64encode(image_bytes).decode('utf-8')\n",
    "    return image_base64"
   ]
  },
  {
   "cell_type": "code",
   "execution_count": 64,
   "metadata": {},
   "outputs": [],
   "source": [
    "def obtener_base64(path):   \n",
    "  image_base64 =encode_image(path)\n",
    "\n",
    "  #crear archivo con el contenido de la imagen en base64\n",
    "  with open(\"img.txt\", \"w\") as f:\n",
    "    f.write(image_base64)\n",
    "  \n",
    "  return image_base64"
   ]
  },
  {
   "cell_type": "code",
   "execution_count": 65,
   "metadata": {},
   "outputs": [
    {
     "name": "stdout",
     "output_type": "stream",
     "text": [
      "Error en la solicitud: 413 HTTP content length exceeded 10485760 bytes.\n",
      "Fin de la ejecución\n"
     ]
    }
   ],
   "source": [
    "endpoint = \"https://37z2ehs82l.execute-api.us-east-1.amazonaws.com/api/indentificacion\" \n",
    "    \n",
    "headers = {\n",
    "        \"Content-Type\": \"application/octet-stream\"\n",
    "    }\n",
    "    \n",
    "image_base64 = obtener_base64(\"img7.jpg\")     \n",
    "    \n",
    "response = requests.post(endpoint, headers=headers, data=image_base64)\n",
    "    \n",
    "if response.status_code == 200:\n",
    "    print(\"Respuesta del servidor:\", response.json())\n",
    "else:\n",
    "    print(\"Error en la solicitud:\", response.status_code, response.text)\n",
    "    \n",
    "print(\"Fin de la ejecución\")"
   ]
  }
 ],
 "metadata": {
  "kernelspec": {
   "display_name": "Python 3",
   "language": "python",
   "name": "python3"
  },
  "language_info": {
   "codemirror_mode": {
    "name": "ipython",
    "version": 3
   },
   "file_extension": ".py",
   "mimetype": "text/x-python",
   "name": "python",
   "nbconvert_exporter": "python",
   "pygments_lexer": "ipython3",
   "version": "3.12.1"
  }
 },
 "nbformat": 4,
 "nbformat_minor": 2
}
