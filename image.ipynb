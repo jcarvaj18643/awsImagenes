{
 "cells": [
  {
   "cell_type": "code",
   "execution_count": 19,
   "metadata": {},
   "outputs": [],
   "source": [
    "import io\n",
    "import base64\n",
    "import requests\n",
    "import json \n",
    "from PIL import Image,ImageDraw\n",
    "import hashlib\n",
    "from dotenv import load_dotenv\n",
    "import re"
   ]
  },
  {
   "cell_type": "code",
   "execution_count": 20,
   "metadata": {},
   "outputs": [],
   "source": [
    "import os\n",
    "# Cargar las variables de entorno desde el archivo .env\n",
    "load_dotenv()\n",
    "# Acceder a las variables de entorno\n",
    "ENDPOINT_KEY = os.getenv('ENDPOINT_KEY')"
   ]
  },
  {
   "cell_type": "code",
   "execution_count": 33,
   "metadata": {},
   "outputs": [],
   "source": [
    "def parse_coordinates(response_text):\n",
    "    \n",
    "    if response_text == \"Bottle:[]\":\n",
    "        return {\"Image\": []}\n",
    "    \n",
    "    pattern = r\"Bottle (\\d+): upper=\\[(\\d+), (\\d+)\\], lower=\\[(\\d+), (\\d+)\\]\"\n",
    "    matches = re.findall(pattern, response_text)\n",
    "\n",
    "    coordinates = {\n",
    "        \"Image\": [\n",
    "            {\n",
    "                \"bottle\": int(match[0]),\n",
    "                \"coordinates\": {\n",
    "                    \"upper\": [int(match[1]), int(match[2])],\n",
    "                    \"lower\": [int(match[3]), int(match[4])]\n",
    "                }\n",
    "            } for match in matches\n",
    "        ]\n",
    "    }\n",
    "    return coordinates"
   ]
  },
  {
   "cell_type": "code",
   "execution_count": 22,
   "metadata": {},
   "outputs": [],
   "source": [
    "def convert_image(image_path):\n",
    "    with Image.open(image_path) as img:\n",
    "        buffer = io.BytesIO()\n",
    "        if img.format not in ['PNG', 'JPEG', 'GIF', 'WEBP']:\n",
    "            img.save(buffer, format=\"PNG\")\n",
    "            extension = \"png\"\n",
    "        else:\n",
    "            img.save(buffer, format=img.format)\n",
    "            extension = img.format.lower()\n",
    "        \n",
    "        processed_image_path = f\"processed_image.{extension}\"\n",
    "            \n",
    "            \n",
    "        buffer.seek(0)  \n",
    "        return buffer.getvalue(),processed_image_path, extension\n",
    "    \n",
    "\n",
    "def calculate_checksum(image_data):\n",
    "    return hashlib.md5(image_data).hexdigest()"
   ]
  },
  {
   "cell_type": "code",
   "execution_count": 23,
   "metadata": {},
   "outputs": [],
   "source": [
    "def draw_lines_on_image_base64(encoded_image, coordinates):\n",
    "    image_data = base64.b64decode(encoded_image)\n",
    "    img = Image.open(io.BytesIO(image_data))\n",
    "    \n",
    "    draw = ImageDraw.Draw(img)\n",
    "    for bottle in coordinates['Image']:\n",
    "        upper = tuple(bottle['coordinates']['upper'])\n",
    "        lower = tuple(bottle['coordinates']['lower'])\n",
    "        draw.line([upper, lower], fill='red', width=8)\n",
    "    \n",
    "    result_image_path = \"result_image.png\"\n",
    "    img.save(result_image_path)\n",
    "    return result_image_path"
   ]
  },
  {
   "cell_type": "code",
   "execution_count": 35,
   "metadata": {},
   "outputs": [
    {
     "name": "stdout",
     "output_type": "stream",
     "text": [
      "Checksum: 73632338370f6a5a4ac5e3d7a7b78834\n",
      "Solicitud recibida del servidor\n",
      "Respuesta del servidor: {'statusCode': 200, 'body': '\"Bottle 1: upper=[101, 90], lower=[140, 170]\\\\nBottle 2: upper=[141, 90], lower=[180, 170]\\\\nBottle 3: upper=[181, 90], lower=[220, 170]\\\\nBottle 4: upper=[221, 90], lower=[260, 170]\\\\nBottle 5: upper=[261, 90], lower=[300, 170]\\\\nBottle 6: upper=[301, 90], lower=[340, 170]\\\\nBottle 7: upper=[341, 90], lower=[380, 170]\\\\nBottle 8: upper=[381, 90], lower=[420, 170]\"'}\n"
     ]
    }
   ],
   "source": [
    "# Path to your image file\n",
    "image_path = \"img5.jpg\"\n",
    "\n",
    "# Convert the image\n",
    "image_data, image_path, extension = convert_image(image_path)\n",
    "\n",
    "checksum = calculate_checksum(image_data)\n",
    "\n",
    "print(\"Checksum:\", checksum)\n",
    "\n",
    "encoded_image = base64.b64encode(image_data).decode('utf-8')\n",
    "     \n",
    "endpoint = f\"https://plvf1e97ll.execute-api.us-east-1.amazonaws.com/production/deteccion\" \n",
    "    \n",
    "headers = {\n",
    "        \"Content-Type\": \"application/json\",\n",
    "        \"x-api-key\": ENDPOINT_KEY\n",
    "    } \n",
    "\n",
    "inputRoot = {\n",
    "    \"Checksum\": checksum,\n",
    "    \"Extension\": extension,\n",
    "    \"Image\": encoded_image \n",
    "} \n",
    "\n",
    "dumbs = json.dumps(inputRoot)\n",
    "\n",
    "response = requests.post(endpoint, headers=headers, data=dumbs)\n",
    "    \n",
    "\n",
    "print(\"Solicitud recibida del servidor\")\n",
    "server_response = response.json()\n",
    "print(\"Respuesta del servidor:\", server_response)\n",
    "          "
   ]
  },
  {
   "cell_type": "code",
   "execution_count": 37,
   "metadata": {},
   "outputs": [
    {
     "name": "stdout",
     "output_type": "stream",
     "text": [
      "Cleaned JSON: {'Image': [{'bottle': 1, 'coordinates': {'upper': [101, 90], 'lower': [140, 170]}}, {'bottle': 2, 'coordinates': {'upper': [141, 90], 'lower': [180, 170]}}, {'bottle': 3, 'coordinates': {'upper': [181, 90], 'lower': [220, 170]}}, {'bottle': 4, 'coordinates': {'upper': [221, 90], 'lower': [260, 170]}}, {'bottle': 5, 'coordinates': {'upper': [261, 90], 'lower': [300, 170]}}, {'bottle': 6, 'coordinates': {'upper': [301, 90], 'lower': [340, 170]}}, {'bottle': 7, 'coordinates': {'upper': [341, 90], 'lower': [380, 170]}}, {'bottle': 8, 'coordinates': {'upper': [381, 90], 'lower': [420, 170]}}]}\n",
      "Botellas encontradas en la imagen: 8\n",
      "Result image saved at result_image.png\n",
      "Fin de la ejecución\n"
     ]
    }
   ],
   "source": [
    "  \n",
    "if response.status_code == 200:\n",
    "    \n",
    "    # Assuming the server response is already parsed into a JSON-like dict format\n",
    "    cleanedjson = parse_coordinates(server_response[\"body\"])\n",
    "    print(\"Cleaned JSON:\",cleanedjson)\n",
    "    \n",
    "    if(cleanedjson == {\"Image\": []}):\n",
    "        print(\"No se encontraron botellas en la imagen\")\n",
    "    else:\n",
    "        print(\"Botellas encontradas en la imagen:\", len(cleanedjson[\"Image\"]))\n",
    "        result_image_path = draw_lines_on_image_base64(encoded_image, cleanedjson)\n",
    "        \n",
    "    print(f\"Result image saved at {result_image_path}\")\n",
    "else:\n",
    "    print(\"Error en la solicitud:\", response.status_code, response.text)\n",
    "    \n",
    "print(\"Fin de la ejecución\")"
   ]
  }
 ],
 "metadata": {
  "kernelspec": {
   "display_name": "Python 3",
   "language": "python",
   "name": "python3"
  },
  "language_info": {
   "codemirror_mode": {
    "name": "ipython",
    "version": 3
   },
   "file_extension": ".py",
   "mimetype": "text/x-python",
   "name": "python",
   "nbconvert_exporter": "python",
   "pygments_lexer": "ipython3",
   "version": "3.12.4"
  }
 },
 "nbformat": 4,
 "nbformat_minor": 2
}
