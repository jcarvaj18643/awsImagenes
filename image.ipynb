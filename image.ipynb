{
 "cells": [
  {
   "cell_type": "code",
   "execution_count": 1,
   "metadata": {},
   "outputs": [],
   "source": [
    "import io\n",
    "import base64\n",
    "import requests\n",
    "import json \n",
    "from PIL import Image,ImageDraw\n",
    "import hashlib\n",
    "from dotenv import load_dotenv\n",
    "import re"
   ]
  },
  {
   "cell_type": "code",
   "execution_count": 2,
   "metadata": {},
   "outputs": [],
   "source": [
    "import os\n",
    "# Cargar las variables de entorno desde el archivo .env\n",
    "load_dotenv()\n",
    "# Acceder a las variables de entorno\n",
    "ENDPOINT_KEY = os.getenv('ENDPOINT_KEY')"
   ]
  },
  {
   "cell_type": "code",
   "execution_count": 3,
   "metadata": {},
   "outputs": [],
   "source": [
    "def convert_image(image_path):\n",
    "    with Image.open(image_path) as img:\n",
    "        buffer = io.BytesIO()\n",
    "        if img.format not in ['PNG', 'JPEG', 'GIF', 'WEBP']:\n",
    "            img.save(buffer, format=\"JPEG\")\n",
    "            extension = \"JPEG\"\n",
    "        else:\n",
    "            img.save(buffer, format=img.format)\n",
    "            extension = img.format.lower()\n",
    "        \n",
    "        processed_image_path = f\"processed_image.{extension}\"\n",
    "            \n",
    "            \n",
    "        buffer.seek(0)  \n",
    "        return buffer.getvalue(),processed_image_path, extension\n",
    "    \n",
    "\n",
    "def calculate_checksum(image_data):\n",
    "    return hashlib.md5(image_data).hexdigest()"
   ]
  },
  {
   "cell_type": "code",
   "execution_count": 4,
   "metadata": {},
   "outputs": [],
   "source": [
    "def draw_lines_on_image_base64(encoded_image, coordinates):\n",
    "    image_data = base64.b64decode(encoded_image)\n",
    "    img = Image.open(io.BytesIO(image_data))\n",
    "    \n",
    "    draw = ImageDraw.Draw(img)\n",
    "    for bottle in coordinates['Image']:\n",
    "        upper = tuple(bottle['coordinates']['upper'])\n",
    "        lower = tuple(bottle['coordinates']['lower'])\n",
    "        draw.line([upper, lower], fill='red', width=8)\n",
    "    \n",
    "    result_image_path = \"result_image.png\"\n",
    "    img.save(result_image_path)\n",
    "    return result_image_path"
   ]
  },
  {
   "cell_type": "code",
   "execution_count": 5,
   "metadata": {},
   "outputs": [],
   "source": [
    "import yaml\n",
    "\n",
    "class Producto:\n",
    "    def __init__(self, nombre, cantidad):\n",
    "        self.nombre = nombre\n",
    "        self.cantidad = cantidad\n",
    "\n",
    "    def __repr__(self):\n",
    "        return f\"{self.nombre} ({self.cantidad})\"\n",
    "\n",
    "class Respuesta: \n",
    "    def __init__(self, vive100=None, otrosProductos=None):\n",
    "        self.vive100 = vive100 if vive100 else []\n",
    "        self.otrosProductos = otrosProductos if otrosProductos else []\n",
    "\n",
    "    def __repr__(self):\n",
    "        return f\"VIVE100 Products: {self.vive100}\\nOther Products: {self.otrosProductos}\"\n",
    "\n",
    "    @classmethod\n",
    "    def from_yaml(cls, yaml_string):\n",
    "        # Limpiar el YAML eliminando secuencias de escape y formato adicional\n",
    "        yaml_string = yaml_string.replace(\"\\\\n\", \"\\n\").replace(\"\\\\u00f3\", \"ó\").replace(\"\\\\u00f1\", \"ñ\")\n",
    "        yaml_string = yaml_string.replace(\"```yaml\", \"\").replace(\"```\", \"\").strip()\n",
    "\n",
    "        # Cargar el YAML\n",
    "        data = yaml.safe_load(yaml_string)\n",
    "\n",
    "        vive100_list = []\n",
    "        otrosProductos_list = []\n",
    "\n",
    "        if \"VIVE100_Products\" in data:\n",
    "            for item in data[\"VIVE100_Products\"]:\n",
    "                producto = Producto(item[\"Product\"], item[\"Quantity\"])\n",
    "                vive100_list.append(producto)\n",
    "\n",
    "        if \"Other_Products\" in data:\n",
    "            for item in data[\"Other_Products\"]:\n",
    "                producto = Producto(item[\"Product\"], item[\"Quantity\"])\n",
    "                otrosProductos_list.append(producto)\n",
    "\n",
    "        return cls(vive100=vive100_list, otrosProductos=otrosProductos_list)"
   ]
  },
  {
   "cell_type": "code",
   "execution_count": 7,
   "metadata": {},
   "outputs": [
    {
     "name": "stdout",
     "output_type": "stream",
     "text": [
      "Checksum: 7508a01d2c36c938779dd11211706890\n"
     ]
    },
    {
     "name": "stdout",
     "output_type": "stream",
     "text": [
      "Enviando solicitud al servidor...dx9XSWUCK56ALu4R35rxZ3z83X2PndhZ1J2ZWnoH\n",
      "Solicitud recibida del servidor\n",
      "Respuesta del servidor: {'body': {'una excepcion lanzada': 'An error occurred (AllAccessDisabled) when calling the PutObject operation: All access to this object has been disabled'}, 'statusCode': 500}\n"
     ]
    }
   ],
   "source": [
    "# Path to your image file\n",
    "image_path = \"img94.jpg\"\n",
    "\n",
    "# Convert the image\n",
    "image_data, image_path, extension = convert_image(image_path)\n",
    "\n",
    "checksum = calculate_checksum(image_data)\n",
    "\n",
    "print(\"Checksum:\", checksum)\n",
    "\n",
    "encoded_image = base64.b64encode(image_data).decode('utf-8')\n",
    "     \n",
    "endpoint = \"https://rume8rx5v6.execute-api.us-east-1.amazonaws.com/pruebas/\" \n",
    "\n",
    "ENDPOINT_KEY = \"dx9XSWUCK56ALu4R35rxZ3z83X2PndhZ1J2ZWnoH\"\n",
    "\n",
    "print(f\"Enviando solicitud al servidor...{ENDPOINT_KEY}\")\n",
    "    \n",
    "headers = {\n",
    "        \"Content-Type\": \"application/json\",\n",
    "        \"x-api-key\": ENDPOINT_KEY\n",
    "        #\"x-api-key\": \"1234567890\"\n",
    "    } \n",
    "\n",
    "inputRoot = {\n",
    "    \"Checksum\": checksum,\n",
    "    \"Extension\": extension,\n",
    "    \"Product\" : \"vive100\",\n",
    "    \"Image\": encoded_image\n",
    "} \n",
    "\n",
    "dumbs = json.dumps(inputRoot)\n",
    "\n",
    "#salvar json\n",
    "with open('data.json', 'w') as f:\n",
    "    json.dump(inputRoot, f)\n",
    "\n",
    "response = requests.post(endpoint, headers=headers, data=dumbs)\n",
    "    \n",
    "if response.status_code == 200:\n",
    "    print(\"Solicitud recibida del servidor\")\n",
    "    server_response = response.json()\n",
    "    print(\"Respuesta del servidor:\", server_response)\n",
    "else:\n",
    "    print(\"Error en la solicitud al servidor\")\n",
    "    print(response.text)"
   ]
  },
  {
   "cell_type": "code",
   "execution_count": 12,
   "metadata": {},
   "outputs": [
    {
     "name": "stdout",
     "output_type": "stream",
     "text": [
      "body yaml result: ```yaml\\nVIVE100_Products:\\n  - Product: vive100 verde original\\n    Quantity: 2\\n  - Product: vive100 morado azai\\n    Quantity: 1\\n  - Product: vive100 rojo normal\\n    Quantity: 1\\n\\nOther_Products:\\n  - Product: Hit Lulo\\n    Color: verde\\n    Quantity: 3\\n  - Product: Natural Maracuya\\n    Color: amarillo\\n    Quantity: 2\\n```\n",
      "VIVE100 Products: [vive100 verde original (2), vive100 morado azai (1), vive100 rojo normal (1)]\n",
      "Other Products: [Hit Lulo (3), Natural Maracuya (2)]\n"
     ]
    }
   ],
   "source": [
    "\n",
    "yaml_string = server_response['body'].strip('\"')\n",
    "\n",
    "\n",
    "print(\"body yaml result: \"+yaml_string)\n",
    "\n",
    "respuesta = Respuesta.from_yaml(yaml_string)\n",
    "\n",
    "# Imprimir la respuesta formateada\n",
    "print(respuesta)"
   ]
  }
 ],
 "metadata": {
  "kernelspec": {
   "display_name": "Python 3",
   "language": "python",
   "name": "python3"
  },
  "language_info": {
   "codemirror_mode": {
    "name": "ipython",
    "version": 3
   },
   "file_extension": ".py",
   "mimetype": "text/x-python",
   "name": "python",
   "nbconvert_exporter": "python",
   "pygments_lexer": "ipython3",
   "version": "3.12.4"
  }
 },
 "nbformat": 4,
 "nbformat_minor": 2
}
